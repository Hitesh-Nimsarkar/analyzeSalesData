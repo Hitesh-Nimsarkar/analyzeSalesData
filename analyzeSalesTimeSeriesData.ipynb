{
 "cells": [
  {
   "cell_type": "code",
   "execution_count": 3,
   "id": "53fbde65",
   "metadata": {},
   "outputs": [
    {
     "name": "stdout",
     "output_type": "stream",
     "text": [
      "Collecting seaborn\n",
      "  Downloading seaborn-0.13.2-py3-none-any.whl.metadata (5.4 kB)\n",
      "Requirement already satisfied: numpy!=1.24.0,>=1.20 in c:\\users\\hitesh\\anacondanew\\envs\\myenv\\lib\\site-packages (from seaborn) (2.1.2)\n",
      "Requirement already satisfied: pandas>=1.2 in c:\\users\\hitesh\\anacondanew\\envs\\myenv\\lib\\site-packages (from seaborn) (2.3.0)\n",
      "Requirement already satisfied: matplotlib!=3.6.1,>=3.4 in c:\\users\\hitesh\\anacondanew\\envs\\myenv\\lib\\site-packages (from seaborn) (3.10.3)\n",
      "Requirement already satisfied: contourpy>=1.0.1 in c:\\users\\hitesh\\anacondanew\\envs\\myenv\\lib\\site-packages (from matplotlib!=3.6.1,>=3.4->seaborn) (1.3.2)\n",
      "Requirement already satisfied: cycler>=0.10 in c:\\users\\hitesh\\anacondanew\\envs\\myenv\\lib\\site-packages (from matplotlib!=3.6.1,>=3.4->seaborn) (0.12.1)\n",
      "Requirement already satisfied: fonttools>=4.22.0 in c:\\users\\hitesh\\anacondanew\\envs\\myenv\\lib\\site-packages (from matplotlib!=3.6.1,>=3.4->seaborn) (4.58.3)\n",
      "Requirement already satisfied: kiwisolver>=1.3.1 in c:\\users\\hitesh\\anacondanew\\envs\\myenv\\lib\\site-packages (from matplotlib!=3.6.1,>=3.4->seaborn) (1.4.8)\n",
      "Requirement already satisfied: packaging>=20.0 in c:\\users\\hitesh\\anacondanew\\envs\\myenv\\lib\\site-packages (from matplotlib!=3.6.1,>=3.4->seaborn) (25.0)\n",
      "Requirement already satisfied: pillow>=8 in c:\\users\\hitesh\\anacondanew\\envs\\myenv\\lib\\site-packages (from matplotlib!=3.6.1,>=3.4->seaborn) (11.0.0)\n",
      "Requirement already satisfied: pyparsing>=2.3.1 in c:\\users\\hitesh\\anacondanew\\envs\\myenv\\lib\\site-packages (from matplotlib!=3.6.1,>=3.4->seaborn) (3.2.3)\n",
      "Requirement already satisfied: python-dateutil>=2.7 in c:\\users\\hitesh\\anacondanew\\envs\\myenv\\lib\\site-packages (from matplotlib!=3.6.1,>=3.4->seaborn) (2.9.0.post0)\n",
      "Requirement already satisfied: pytz>=2020.1 in c:\\users\\hitesh\\anacondanew\\envs\\myenv\\lib\\site-packages (from pandas>=1.2->seaborn) (2025.2)\n",
      "Requirement already satisfied: tzdata>=2022.7 in c:\\users\\hitesh\\anacondanew\\envs\\myenv\\lib\\site-packages (from pandas>=1.2->seaborn) (2025.2)\n",
      "Requirement already satisfied: six>=1.5 in c:\\users\\hitesh\\anacondanew\\envs\\myenv\\lib\\site-packages (from python-dateutil>=2.7->matplotlib!=3.6.1,>=3.4->seaborn) (1.17.0)\n",
      "Downloading seaborn-0.13.2-py3-none-any.whl (294 kB)\n",
      "Installing collected packages: seaborn\n",
      "Successfully installed seaborn-0.13.2\n"
     ]
    }
   ],
   "source": [
    "!pip install seaborn"
   ]
  },
  {
   "cell_type": "code",
   "execution_count": 4,
   "id": "f8269fa4",
   "metadata": {},
   "outputs": [],
   "source": [
    "import pandas as pd\n",
    "import matplotlib.pyplot as plt\n",
    "import seaborn as sns"
   ]
  },
  {
   "cell_type": "code",
   "execution_count": 5,
   "id": "b19ff5d6",
   "metadata": {},
   "outputs": [],
   "source": [
    "df = pd.read_csv('synthetic_sales_data.csv')"
   ]
  },
  {
   "cell_type": "code",
   "execution_count": 6,
   "id": "0acd1b66",
   "metadata": {},
   "outputs": [],
   "source": [
    "df['Date'] = pd.to_datetime(df['Date'])"
   ]
  },
  {
   "cell_type": "code",
   "execution_count": 7,
   "id": "12d8a9cd",
   "metadata": {},
   "outputs": [],
   "source": [
    "df['Net_Sales'] = df['Sales'] - df['Returns']"
   ]
  },
  {
   "cell_type": "code",
   "execution_count": 16,
   "id": "6ea0aadc",
   "metadata": {},
   "outputs": [],
   "source": [
    "df['Day_of_Week'] = df['Date'].dt.day_name()\n",
    "df['Month'] = df['Date'].dt.month_name()\n",
    "df['Holiday'] = df['Holiday'].apply(lambda x: 1 if x == 'Yes' else 0)"
   ]
  },
  {
   "cell_type": "code",
   "execution_count": 17,
   "id": "75069f84",
   "metadata": {},
   "outputs": [
    {
     "name": "stdout",
     "output_type": "stream",
     "text": [
      "          Date Product_ID  Sales   Price  Discount  Returns  Holiday  \\\n",
      "0   2023-01-01       P007    112  248.88      0.05        3        0   \n",
      "1   2023-01-02       P004    123  233.21      0.00        2        0   \n",
      "2   2023-01-03       P008    139  453.99      0.10        7        0   \n",
      "3   2023-01-04       P005    129  253.31      0.00        1        0   \n",
      "4   2023-01-05       P007     99  297.40      0.20        7        0   \n",
      "..         ...        ...    ...     ...       ...      ...      ...   \n",
      "995 2025-09-22       P010    127  497.77      0.00        4        0   \n",
      "996 2025-09-23       P010    125  342.19      0.00       10        0   \n",
      "997 2025-09-24       P008    138  223.15      0.05       11        0   \n",
      "998 2025-09-25       P002    118  435.01      0.00        7        0   \n",
      "999 2025-09-26       P009    123  345.79      0.00        8        0   \n",
      "\n",
      "     Net_Sales Day_of_Week      Month  \n",
      "0          109      Sunday    January  \n",
      "1          121      Monday    January  \n",
      "2          132     Tuesday    January  \n",
      "3          128   Wednesday    January  \n",
      "4           92    Thursday    January  \n",
      "..         ...         ...        ...  \n",
      "995        123      Monday  September  \n",
      "996        115     Tuesday  September  \n",
      "997        127   Wednesday  September  \n",
      "998        111    Thursday  September  \n",
      "999        115      Friday  September  \n",
      "\n",
      "[1000 rows x 10 columns]\n"
     ]
    }
   ],
   "source": [
    "\n",
    "    print(df)"
   ]
  },
  {
   "cell_type": "code",
   "execution_count": 33,
   "id": "a8f9a989",
   "metadata": {},
   "outputs": [],
   "source": [
    "df['Day_of_Week'] = df['Date'].dt.day_name()\n",
    "df['Holiday_Flag'] = df['Holiday'].apply(lambda x: 1 if x == 'Yes' else 0)\n"
   ]
  },
  {
   "cell_type": "code",
   "execution_count": 34,
   "id": "6c027e73",
   "metadata": {},
   "outputs": [],
   "source": [
    "weekly_sales = df.groupby('Day_of_Week')['Sales'].mean().reindex(\n",
    "    ['Monday', 'Tuesday', 'Wednesday', 'Thursday', 'Friday', 'Saturday', 'Sunday']\n",
    ")\n"
   ]
  },
  {
   "cell_type": "code",
   "execution_count": 35,
   "id": "9f13858c",
   "metadata": {},
   "outputs": [],
   "source": [
    "holiday_sales = df.groupby('Holiday_Flag')['Sales'].mean()\n"
   ]
  },
  {
   "cell_type": "code",
   "execution_count": 38,
   "id": "fdef3d23",
   "metadata": {},
   "outputs": [
    {
     "name": "stdout",
     "output_type": "stream",
     "text": [
      "          Date Product_ID  Sales   Price  Discount  Returns  Holiday  \\\n",
      "0   2023-01-01       P007    112  248.88      0.05        3        0   \n",
      "1   2023-01-02       P004    123  233.21      0.00        2        0   \n",
      "2   2023-01-03       P008    139  453.99      0.10        7        0   \n",
      "3   2023-01-04       P005    129  253.31      0.00        1        0   \n",
      "4   2023-01-05       P007     99  297.40      0.20        7        0   \n",
      "..         ...        ...    ...     ...       ...      ...      ...   \n",
      "995 2025-09-22       P010    127  497.77      0.00        4        0   \n",
      "996 2025-09-23       P010    125  342.19      0.00       10        0   \n",
      "997 2025-09-24       P008    138  223.15      0.05       11        0   \n",
      "998 2025-09-25       P002    118  435.01      0.00        7        0   \n",
      "999 2025-09-26       P009    123  345.79      0.00        8        0   \n",
      "\n",
      "     Net_Sales Day_of_Week      Month        MA_7 Discount_Bin  Holiday_Flag  \n",
      "0          109      Sunday    January         NaN          Low             0  \n",
      "1          121      Monday    January         NaN          NaN             0  \n",
      "2          132     Tuesday    January         NaN          Low             0  \n",
      "3          128   Wednesday    January         NaN          NaN             0  \n",
      "4           92    Thursday    January         NaN       Medium             0  \n",
      "..         ...         ...        ...         ...          ...           ...  \n",
      "995        123      Monday  September  116.000000          NaN             0  \n",
      "996        115     Tuesday  September  116.000000          NaN             0  \n",
      "997        127   Wednesday  September  117.857143          Low             0  \n",
      "998        111    Thursday  September  120.142857          NaN             0  \n",
      "999        115      Friday  September  118.428571          NaN             0  \n",
      "\n",
      "[1000 rows x 13 columns]\n"
     ]
    }
   ],
   "source": [
    "print(df)"
   ]
  },
  {
   "cell_type": "code",
   "execution_count": 40,
   "id": "47f579a9",
   "metadata": {},
   "outputs": [
    {
     "name": "stdout",
     "output_type": "stream",
     "text": [
      "          Date Product_ID  Sales   Price  Discount  Returns  Holiday  \\\n",
      "0   2023-01-01       P007    112  248.88      0.05        3        0   \n",
      "1   2023-01-02       P004    123  233.21      0.00        2        0   \n",
      "2   2023-01-03       P008    139  453.99      0.10        7        0   \n",
      "3   2023-01-04       P005    129  253.31      0.00        1        0   \n",
      "4   2023-01-05       P007     99  297.40      0.20        7        0   \n",
      "..         ...        ...    ...     ...       ...      ...      ...   \n",
      "995 2025-09-22       P010    127  497.77      0.00        4        0   \n",
      "996 2025-09-23       P010    125  342.19      0.00       10        0   \n",
      "997 2025-09-24       P008    138  223.15      0.05       11        0   \n",
      "998 2025-09-25       P002    118  435.01      0.00        7        0   \n",
      "999 2025-09-26       P009    123  345.79      0.00        8        0   \n",
      "\n",
      "     Net_Sales Day_of_Week      Month        MA_7 Discount_Bin  Holiday_Flag  \\\n",
      "0          109      Sunday    January         NaN          Low             0   \n",
      "1          121      Monday    January         NaN          NaN             0   \n",
      "2          132     Tuesday    January         NaN          Low             0   \n",
      "3          128   Wednesday    January         NaN          NaN             0   \n",
      "4           92    Thursday    January         NaN       Medium             0   \n",
      "..         ...         ...        ...         ...          ...           ...   \n",
      "995        123      Monday  September  116.000000          NaN             0   \n",
      "996        115     Tuesday  September  116.000000          NaN             0   \n",
      "997        127   Wednesday  September  117.857143          Low             0   \n",
      "998        111    Thursday  September  120.142857          NaN             0   \n",
      "999        115      Friday  September  118.428571          NaN             0   \n",
      "\n",
      "      Discount_Level  \n",
      "0        Low (<=10%)  \n",
      "1        Low (<=10%)  \n",
      "2        Low (<=10%)  \n",
      "3        Low (<=10%)  \n",
      "4    Medium (10-20%)  \n",
      "..               ...  \n",
      "995      Low (<=10%)  \n",
      "996      Low (<=10%)  \n",
      "997      Low (<=10%)  \n",
      "998      Low (<=10%)  \n",
      "999      Low (<=10%)  \n",
      "\n",
      "[1000 rows x 14 columns]\n"
     ]
    }
   ],
   "source": [
    "df['Discount_Level'] = pd.cut(df['Discount'],\n",
    "    bins=[-0.01, 0.1, 0.2, 0.3, 1.0],\n",
    "    labels=['Low (<=10%)', 'Medium (10-20%)', 'High (20-30%)', 'Very High (>30%)']\n",
    ")\n",
    "print(df)"
   ]
  }
 ],
 "metadata": {
  "kernelspec": {
   "display_name": "myenv",
   "language": "python",
   "name": "python3"
  },
  "language_info": {
   "codemirror_mode": {
    "name": "ipython",
    "version": 3
   },
   "file_extension": ".py",
   "mimetype": "text/x-python",
   "name": "python",
   "nbconvert_exporter": "python",
   "pygments_lexer": "ipython3",
   "version": "3.13.5"
  }
 },
 "nbformat": 4,
 "nbformat_minor": 5
}
